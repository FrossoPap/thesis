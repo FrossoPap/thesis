{
 "cells": [
  {
   "cell_type": "code",
   "execution_count": null,
   "metadata": {},
   "outputs": [],
   "source": [
    "import json\n",
    "import pandas as pd\n",
    "import glob\n",
    "import numpy as np\n"
   ]
  },
  {
   "cell_type": "code",
   "execution_count": null,
   "metadata": {},
   "outputs": [],
   "source": [
    "result2 = []\n",
    "indx = []\n",
    "for f2 in glob.glob(\"*.json\"):\n",
    "    if f2==\"fakemerged_file.json\": \n",
    "        continue  \n",
    "    with open(f2, \"r\") as infile2:\n",
    "#         result2.append(f2)\n",
    "        result2.append(json.load(infile2))\n",
    "        string1, string2, string3 = f2.split('_')\n",
    "        string4, string5 = string3.split('-')\n",
    "        indx.append(string4)\n",
    "        \n",
    "with open(\"fakemerged_file.json\", \"w\") as outfile2:\n",
    "     json.dump(result2, outfile2)\n",
    "        \n"
   ]
  },
  {
   "cell_type": "code",
   "execution_count": null,
   "metadata": {},
   "outputs": [],
   "source": [
    "d =pd.read_json('fakemerged_file.json')\n",
    "df = pd.DataFrame(d)\n"
   ]
  },
  {
   "cell_type": "code",
   "execution_count": null,
   "metadata": {},
   "outputs": [],
   "source": [
    "df = df.assign(Post=indx)\n"
   ]
  },
  {
   "cell_type": "code",
   "execution_count": 272,
   "metadata": {},
   "outputs": [
    {
     "data": {
      "text/plain": [
       "{'$date': 1488410753000}"
      ]
     },
     "execution_count": 272,
     "metadata": {},
     "output_type": "execute_result"
    }
   ],
   "source": [
    "df"
   ]
  },
  {
   "cell_type": "code",
   "execution_count": null,
   "metadata": {},
   "outputs": [],
   "source": []
  },
  {
   "cell_type": "code",
   "execution_count": 266,
   "metadata": {},
   "outputs": [
    {
     "data": {
      "text/html": [
       "<div>\n",
       "<style scoped>\n",
       "    .dataframe tbody tr th:only-of-type {\n",
       "        vertical-align: middle;\n",
       "    }\n",
       "\n",
       "    .dataframe tbody tr th {\n",
       "        vertical-align: top;\n",
       "    }\n",
       "\n",
       "    .dataframe thead th {\n",
       "        text-align: right;\n",
       "    }\n",
       "</style>\n",
       "<table border=\"1\" class=\"dataframe\">\n",
       "  <thead>\n",
       "    <tr style=\"text-align: right;\">\n",
       "      <th></th>\n",
       "      <th>authors</th>\n",
       "      <th>canonical_link</th>\n",
       "      <th>images</th>\n",
       "      <th>keywords</th>\n",
       "      <th>meta_data</th>\n",
       "      <th>movies</th>\n",
       "      <th>publish_date</th>\n",
       "      <th>source</th>\n",
       "      <th>summary</th>\n",
       "      <th>text</th>\n",
       "      <th>title</th>\n",
       "      <th>top_img</th>\n",
       "      <th>url</th>\n",
       "      <th>Post</th>\n",
       "    </tr>\n",
       "  </thead>\n",
       "  <tbody>\n",
       "  </tbody>\n",
       "</table>\n",
       "</div>"
      ],
      "text/plain": [
       "Empty DataFrame\n",
       "Columns: [authors, canonical_link, images, keywords, meta_data, movies, publish_date, source, summary, text, title, top_img, url, Post]\n",
       "Index: []"
      ]
     },
     "execution_count": 266,
     "metadata": {},
     "output_type": "execute_result"
    }
   ],
   "source": [
    "# Add missed dates\n",
    "df['publish_date'][20]={'$date': 1513947565000}\n",
    "df['publish_date'][5]={'$date': 1472860800000}\n",
    "df['publish_date'][8]={'$date': 1488672000000}\n",
    "df['publish_date'][9]={'$date': 1491091200000}\n",
    "df['publish_date'][19]={'$date': 1488153600000}\n",
    "df['publish_date'][23]={'$date': 1492992000000}\n",
    "df['publish_date'][25]={'$date': 1493856000000}\n",
    "df['publish_date'][26]={'$date': 1482451200000}\n",
    "df['publish_date'][28]={'$date': 1490313600000}\n",
    "df['publish_date'][91]={'$date': 1491091200000}\n",
    "df['publish_date'][98]={'$date': 1497484800000}\n",
    "df['publish_date'][99]={'$date': 1488092400000}\n",
    "df['publish_date'][100]={'$date': 1483340400000}\n",
    "df['publish_date'][102]={'$date': 1493362800000}\n",
    "df['publish_date'][105]={'$date': 1463356800000}\n",
    "df['publish_date'][108]={'$date': 1493164800000}\n",
    "df['publish_date'][109]={'$date': 1482192000000}\n",
    "df['publish_date'][118]={'$date': 1490313600000}\n",
    "df['publish_date'][31]={'$date': 1499472000000}\n",
    "df['publish_date'][35]={'$date': 1499040000000} # prosoxi\n",
    "df['publish_date'][39]={'$date': 1496361600000}\n",
    "df['publish_date'][42]={'$date': 1486512000000}\n",
    "df['publish_date'][44]={'$date': 1492387200000}\n",
    "df['publish_date'][46]={'$date': 1480982400000}\n",
    "df['publish_date'][47]={'$date': 1490054400000}\n",
    "df['publish_date'][53]={'$date': 1486080000000}\n",
    "df['publish_date'][56]={'$date': 1449532800000}\n",
    "df['publish_date'][61]={'$date': 1491436800000}\n",
    "df['publish_date'][63]={'$date': 1495497600000}\n",
    "df['publish_date'][68]={'$date': 1479340800000}\n",
    "df['publish_date'][75]={'$date': 1485820800000}\n",
    "df['publish_date'][76]={'$date': 1483920000000}\n",
    "df['publish_date'][80]={'$date': 1486339200000}\n",
    "df['publish_date'][81]={'$date': 1487203200000}\n",
    "df['publish_date'][82]={'$date': 1485388800000}\n",
    "df['publish_date'][88]={'$date': 1486771200000}\n",
    "df['publish_date'][89]={'$date': 1494892800000}\n",
    "df['publish_date'][32]={'$date': 1498176000000}\n",
    "\n",
    "df.loc[df['publish_date'].isnull()]\n"
   ]
  },
  {
   "cell_type": "code",
   "execution_count": 231,
   "metadata": {},
   "outputs": [],
   "source": [
    "# df['publish_date']"
   ]
  },
  {
   "cell_type": "code",
   "execution_count": 283,
   "metadata": {},
   "outputs": [],
   "source": [
    "for index, row in df.iterrows():\n",
    "#     print(list(df['publish_date'][index].values())[0])\n",
    "    df['publish_date'][index]=list(df['publish_date'][index].values())[0]\n",
    "    \n"
   ]
  },
  {
   "cell_type": "code",
   "execution_count": 304,
   "metadata": {},
   "outputs": [],
   "source": [
    "df = df.sort_values('publish_date', axis=0)\n",
    "sortedposts = df['Post']"
   ]
  },
  {
   "cell_type": "code",
   "execution_count": 312,
   "metadata": {},
   "outputs": [
    {
     "data": {
      "text/plain": [
       "0       52\n",
       "1       54\n",
       "2       53\n",
       "3       42\n",
       "4        1\n",
       "5       19\n",
       "6      115\n",
       "7       68\n",
       "8       78\n",
       "9        7\n",
       "10      22\n",
       "11      59\n",
       "12       2\n",
       "13      27\n",
       "14       8\n",
       "15       3\n",
       "16      40\n",
       "17      28\n",
       "18       4\n",
       "19       5\n",
       "20      16\n",
       "21       9\n",
       "22       6\n",
       "23      10\n",
       "24      33\n",
       "25      14\n",
       "26      13\n",
       "27      12\n",
       "28      15\n",
       "29      17\n",
       "      ... \n",
       "90      65\n",
       "91      97\n",
       "92      96\n",
       "93      94\n",
       "94      89\n",
       "95      95\n",
       "96      93\n",
       "97      58\n",
       "98      98\n",
       "99     100\n",
       "100    108\n",
       "101    109\n",
       "102    105\n",
       "103    102\n",
       "104    103\n",
       "105    104\n",
       "106     49\n",
       "107    116\n",
       "108    111\n",
       "109    113\n",
       "110    107\n",
       "111    114\n",
       "112    110\n",
       "113    112\n",
       "114    118\n",
       "115    117\n",
       "116    119\n",
       "117    120\n",
       "118    106\n",
       "119     20\n",
       "Name: Post, Length: 120, dtype: int64"
      ]
     },
     "execution_count": 312,
     "metadata": {},
     "output_type": "execute_result"
    }
   ],
   "source": [
    "sortedposts = sortedposts.reset_index(drop=True)\n",
    "sortedposts\n",
    "sortedposts = sortedposts.astype(int)\n",
    "sortedposts"
   ]
  },
  {
   "cell_type": "code",
   "execution_count": 319,
   "metadata": {},
   "outputs": [],
   "source": [
    "np.savetxt('../sortedfakeposts.txt', sortedposts)"
   ]
  },
  {
   "cell_type": "code",
   "execution_count": null,
   "metadata": {},
   "outputs": [],
   "source": []
  },
  {
   "cell_type": "code",
   "execution_count": null,
   "metadata": {},
   "outputs": [],
   "source": []
  }
 ],
 "metadata": {
  "kernelspec": {
   "display_name": "Python 3",
   "language": "python",
   "name": "python3"
  },
  "language_info": {
   "codemirror_mode": {
    "name": "ipython",
    "version": 3
   },
   "file_extension": ".py",
   "mimetype": "text/x-python",
   "name": "python",
   "nbconvert_exporter": "python",
   "pygments_lexer": "ipython3",
   "version": "3.6.6"
  }
 },
 "nbformat": 4,
 "nbformat_minor": 2
}
