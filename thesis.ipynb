{
 "cells": [
  {
   "cell_type": "code",
   "execution_count": 4,
   "metadata": {},
   "outputs": [],
   "source": [
    "import pandas as pd\n",
    "import numpy as np \n",
    "from numpy import array\n",
    "from scipy.sparse import *\n",
    "from scipy import *\n",
    "import sparse\n",
    "from sktensor.rescal import als as rescal_als\n",
    "from scipy.spatial import distance\n",
    "\n",
    "# import csv\n",
    "# from sktensor import dtensor, cp_als, rescal\n",
    "# import glob\n",
    "# from scipy import spatial"
   ]
  },
  {
   "cell_type": "code",
   "execution_count": 5,
   "metadata": {},
   "outputs": [],
   "source": [
    "# Create Post-User and User-User arrays\n",
    "post = np.loadtxt( 'PolitiFactNewsUser.txt' )\n",
    "user = np.loadtxt('PolitiFactUserUser.txt')\n",
    "post = post.astype(int)\n",
    "user = user.astype(int)\n"
   ]
  },
  {
   "cell_type": "code",
   "execution_count": 6,
   "metadata": {},
   "outputs": [],
   "source": [
    "# Create u x u array  with the follower - followee scheme \n",
    "total = np.zeros((23865,23865), dtype=int)\n",
    "for i in range(574744):\n",
    "    u1 = user[i,0] - 1\n",
    "    u2 = user[i,1] - 1\n",
    "    # user u2 is followed by u1\n",
    "    total[u2,u1] = 1 \n",
    "\n",
    "\n"
   ]
  },
  {
   "cell_type": "code",
   "execution_count": 7,
   "metadata": {},
   "outputs": [],
   "source": [
    "# Number of users \n",
    "nu = 23865\n",
    "# Initialize list of arrays, 120 in total, empty adjacency matrixes\n",
    "faketnsr = []\n",
    "realtnsr = []\n",
    "for i in range(120):\n",
    "    # Constructing an empty sparse matrix u x u \n",
    "    A = coo_matrix((nu, nu), dtype=np.int8).toarray()\n",
    "    B = coo_matrix((nu, nu), dtype=np.int8).toarray()\n",
    "    faketnsr.append(A)\n",
    "    realtnsr.append(B)"
   ]
  },
  {
   "cell_type": "code",
   "execution_count": null,
   "metadata": {},
   "outputs": [],
   "source": [
    "\n",
    "\n"
   ]
  },
  {
   "cell_type": "code",
   "execution_count": 8,
   "metadata": {},
   "outputs": [],
   "source": [
    "# Create Fake and Real tensors from the follower-folowee scheme\n",
    "k=0\n",
    "# Rows of Post array\n",
    "rows=32791\n",
    "for i in range(rows):\n",
    "    u=post[i,1] # u = User id\n",
    "    p=post[i,0] # p = Post id\n",
    "    if (p>120):      \n",
    "        # i is followed by j \n",
    "        faketnsr[p-121][u-1][:]=total[u-1][:]\n",
    "    else:\n",
    "        realtnsr[p-1][u-1][:]=total[u-1][:]\n"
   ]
  },
  {
   "cell_type": "code",
   "execution_count": 12,
   "metadata": {},
   "outputs": [],
   "source": [
    "# Load sorted by date fake & real posts created in mergefake.py & mergereal.py\n",
    "sortedfake = np.loadtxt('sortedfakeposts.txt')\n",
    "sortedfake = sortedfakes.astype(int)\n",
    "sortedreal = np.loadtxt('sortedrealposts.txt')\n",
    "sortedreal = sortedreal.astype(int)\n"
   ]
  },
  {
   "cell_type": "code",
   "execution_count": 13,
   "metadata": {},
   "outputs": [],
   "source": [
    "# Sort tensors gy date according to sortedfake & sortedreal arrays\n",
    "sortedfaketnsr=[]\n",
    "for i in range(120):\n",
    "    sortedfaketnsr.append(faketnsr[sortedfake[i]-1])\n",
    "sortedrealtnsr=[]\n",
    "for i in range(120):\n",
    "    sortedrealtnsr.append(realtnsr[sortedreal[i]-1])\n",
    "\n",
    "\n",
    "\n"
   ]
  },
  {
   "cell_type": "code",
   "execution_count": 15,
   "metadata": {},
   "outputs": [
    {
     "name": "stdout",
     "output_type": "stream",
     "text": [
      "Constructing 119 x u x u sparse tensor with the first 119 fakes in order to apply Rescal\n"
     ]
    }
   ],
   "source": [
    "print('Constructing 119 x u x u sparse tensor with the first 119 fakes in order to apply Rescal')\n",
    "# T1 is my training set\n",
    "T1 = []\n",
    "for i in range(119):\n",
    "    # Constructing an empty sparse matrix u x u \n",
    "     C = csr_matrix(sortedfaketnsr[i])\n",
    "     T1.append(C)\n"
   ]
  },
  {
   "cell_type": "code",
   "execution_count": 16,
   "metadata": {},
   "outputs": [
    {
     "name": "stderr",
     "output_type": "stream",
     "text": [
      "For large tensors automatic computation of fit is disabled by default\n",
      "To compute the fit, call rescal.als with \"compute_fit=True\"\n",
      "Please note that this might cause memory and runtime problems\n"
     ]
    },
    {
     "name": "stdout",
     "output_type": "stream",
     "text": [
      "Rescal on 119 first fakes\n"
     ]
    }
   ],
   "source": [
    "print('Rescal on 119 first fakes')\n",
    "A1, R1, _, _, _ = rescal_als(T1, 2)\n"
   ]
  },
  {
   "cell_type": "code",
   "execution_count": 19,
   "metadata": {},
   "outputs": [
    {
     "name": "stdout",
     "output_type": "stream",
     "text": [
      "Save Results, A1,T1...\n"
     ]
    }
   ],
   "source": [
    "print('Save Results, A1,T1...')\n",
    "np.savetxt('A1.txt', A1)\n",
    "np.save('T1.txt', T1)\n"
   ]
  },
  {
   "cell_type": "code",
   "execution_count": 20,
   "metadata": {},
   "outputs": [
    {
     "name": "stdout",
     "output_type": "stream",
     "text": [
      "Constructing 119 x u x u sparse tensor with the first 119  real in order to apply Rescal\n"
     ]
    }
   ],
   "source": [
    "print('Constructing 119 x u x u sparse tensor with the first 119  real in order to apply Rescal')\n",
    "T2 = []\n",
    "for i in range(119):\n",
    "    # Constructing an empty sparse matrix u x u \n",
    "     D = csr_matrix(sortedrealtnsr[i])\n",
    "     T2.append(D)"
   ]
  },
  {
   "cell_type": "code",
   "execution_count": 21,
   "metadata": {},
   "outputs": [
    {
     "name": "stderr",
     "output_type": "stream",
     "text": [
      "For large tensors automatic computation of fit is disabled by default\n",
      "To compute the fit, call rescal.als with \"compute_fit=True\"\n",
      "Please note that this might cause memory and runtime problems\n"
     ]
    },
    {
     "name": "stdout",
     "output_type": "stream",
     "text": [
      "Rescal on 119 first real posts\n"
     ]
    }
   ],
   "source": [
    "print('Rescal on 119 first real posts')\n",
    "A2, R2, _, _, _ = rescal_als(T2, 2)\n",
    "\n"
   ]
  },
  {
   "cell_type": "code",
   "execution_count": 22,
   "metadata": {},
   "outputs": [
    {
     "name": "stdout",
     "output_type": "stream",
     "text": [
      "Constructing u x u sparse matrix for the last fake post in order to apply Rescal\n"
     ]
    }
   ],
   "source": [
    "print('Constructing u x u sparse matrix for the last fake post in order to apply Rescal')\n",
    "T3 = []\n",
    "Z = csr_matrix(sortedfaketnsr[119])\n",
    "T3.append(Z)"
   ]
  },
  {
   "cell_type": "code",
   "execution_count": 23,
   "metadata": {},
   "outputs": [
    {
     "name": "stdout",
     "output_type": "stream",
     "text": [
      "Rescal on 120th fake post\n"
     ]
    }
   ],
   "source": [
    "print('Rescal on 120th fake post')\n",
    "A3, R3, _, _, _ = rescal_als(T3, 2)\n"
   ]
  },
  {
   "cell_type": "code",
   "execution_count": null,
   "metadata": {},
   "outputs": [],
   "source": []
  },
  {
   "cell_type": "code",
   "execution_count": null,
   "metadata": {},
   "outputs": [],
   "source": []
  },
  {
   "cell_type": "code",
   "execution_count": 25,
   "metadata": {},
   "outputs": [
    {
     "name": "stdout",
     "output_type": "stream",
     "text": [
      "0.76503957561969\n",
      "1.0007963975650935\n",
      "2.0128415689558157\n",
      "1.9186578798623684\n"
     ]
    }
   ],
   "source": [
    "# Flatten arrays\n",
    "Aflat = np.hstack(A1) \n",
    "Bflat = np.hstack(A2)\n",
    "Cflat = np.hstack(A3)\n",
    "dist = distance.cosine(Aflat, Cflat)\n",
    "dist2 = distance.cosine(Bflat, Cflat)\n",
    "result2 = np.linalg.norm(Aflat-Cflat)\n",
    "result3 = np.linalg.norm(Bflat-Cflat)\n",
    "print(dist)\n",
    "print(dist2)\n",
    "print(result3)\n",
    "print(result2)\n",
    "\n"
   ]
  },
  {
   "cell_type": "code",
   "execution_count": 25,
   "metadata": {},
   "outputs": [],
   "source": []
  },
  {
   "cell_type": "code",
   "execution_count": 14,
   "metadata": {},
   "outputs": [],
   "source": []
  },
  {
   "cell_type": "code",
   "execution_count": 15,
   "metadata": {},
   "outputs": [],
   "source": []
  },
  {
   "cell_type": "code",
   "execution_count": 17,
   "metadata": {},
   "outputs": [],
   "source": []
  },
  {
   "cell_type": "code",
   "execution_count": null,
   "metadata": {},
   "outputs": [],
   "source": [
    "\n"
   ]
  },
  {
   "cell_type": "raw",
   "metadata": {},
   "source": []
  },
  {
   "cell_type": "code",
   "execution_count": null,
   "metadata": {},
   "outputs": [],
   "source": []
  },
  {
   "cell_type": "code",
   "execution_count": null,
   "metadata": {},
   "outputs": [],
   "source": []
  },
  {
   "cell_type": "code",
   "execution_count": null,
   "metadata": {},
   "outputs": [],
   "source": []
  },
  {
   "cell_type": "code",
   "execution_count": 50,
   "metadata": {},
   "outputs": [],
   "source": []
  },
  {
   "cell_type": "code",
   "execution_count": 30,
   "metadata": {},
   "outputs": [],
   "source": []
  },
  {
   "cell_type": "code",
   "execution_count": 44,
   "metadata": {},
   "outputs": [],
   "source": []
  },
  {
   "cell_type": "raw",
   "metadata": {},
   "source": []
  },
  {
   "cell_type": "code",
   "execution_count": null,
   "metadata": {},
   "outputs": [],
   "source": []
  },
  {
   "cell_type": "code",
   "execution_count": null,
   "metadata": {},
   "outputs": [],
   "source": []
  },
  {
   "cell_type": "code",
   "execution_count": null,
   "metadata": {},
   "outputs": [],
   "source": []
  },
  {
   "cell_type": "code",
   "execution_count": null,
   "metadata": {},
   "outputs": [],
   "source": [
    "\n"
   ]
  },
  {
   "cell_type": "code",
   "execution_count": 17,
   "metadata": {},
   "outputs": [],
   "source": [
    "\n"
   ]
  },
  {
   "cell_type": "code",
   "execution_count": 18,
   "metadata": {},
   "outputs": [],
   "source": []
  },
  {
   "cell_type": "code",
   "execution_count": null,
   "metadata": {},
   "outputs": [],
   "source": [
    "\n"
   ]
  },
  {
   "cell_type": "code",
   "execution_count": null,
   "metadata": {},
   "outputs": [],
   "source": [
    "\n"
   ]
  },
  {
   "cell_type": "code",
   "execution_count": null,
   "metadata": {},
   "outputs": [],
   "source": []
  },
  {
   "cell_type": "code",
   "execution_count": null,
   "metadata": {},
   "outputs": [],
   "source": []
  },
  {
   "cell_type": "code",
   "execution_count": null,
   "metadata": {},
   "outputs": [],
   "source": []
  },
  {
   "cell_type": "raw",
   "metadata": {},
   "source": []
  },
  {
   "cell_type": "code",
   "execution_count": null,
   "metadata": {},
   "outputs": [],
   "source": []
  },
  {
   "cell_type": "code",
   "execution_count": null,
   "metadata": {},
   "outputs": [],
   "source": []
  },
  {
   "cell_type": "code",
   "execution_count": null,
   "metadata": {},
   "outputs": [],
   "source": []
  },
  {
   "cell_type": "code",
   "execution_count": null,
   "metadata": {},
   "outputs": [],
   "source": []
  },
  {
   "cell_type": "code",
   "execution_count": null,
   "metadata": {},
   "outputs": [],
   "source": []
  },
  {
   "cell_type": "code",
   "execution_count": null,
   "metadata": {},
   "outputs": [],
   "source": []
  },
  {
   "cell_type": "code",
   "execution_count": null,
   "metadata": {},
   "outputs": [],
   "source": []
  },
  {
   "cell_type": "code",
   "execution_count": null,
   "metadata": {},
   "outputs": [],
   "source": []
  },
  {
   "cell_type": "code",
   "execution_count": null,
   "metadata": {},
   "outputs": [],
   "source": []
  },
  {
   "cell_type": "code",
   "execution_count": null,
   "metadata": {},
   "outputs": [],
   "source": []
  }
 ],
 "metadata": {
  "kernelspec": {
   "display_name": "Python 3",
   "language": "python",
   "name": "python3"
  },
  "language_info": {
   "codemirror_mode": {
    "name": "ipython",
    "version": 3
   },
   "file_extension": ".py",
   "mimetype": "text/x-python",
   "name": "python",
   "nbconvert_exporter": "python",
   "pygments_lexer": "ipython3",
   "version": "3.6.6"
  }
 },
 "nbformat": 4,
 "nbformat_minor": 2
}
